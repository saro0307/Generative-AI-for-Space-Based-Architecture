{
  "nbformat": 4,
  "nbformat_minor": 0,
  "metadata": {
    "colab": {
      "provenance": [],
      "authorship_tag": "ABX9TyNFMloIb93GoZCD7Ppudun1",
      "include_colab_link": true
    },
    "kernelspec": {
      "name": "python3",
      "display_name": "Python 3"
    },
    "language_info": {
      "name": "python"
    }
  },
  "cells": [
    {
      "cell_type": "markdown",
      "metadata": {
        "id": "view-in-github",
        "colab_type": "text"
      },
      "source": [
        "<a href=\"https://colab.research.google.com/github/saro0307/Generative-AI-for-Space-Based-Architecture/blob/main/GenAI_for_Space_Based_Architecture.ipynb\" target=\"_parent\"><img src=\"https://colab.research.google.com/assets/colab-badge.svg\" alt=\"Open In Colab\"/></a>"
      ]
    },
    {
      "cell_type": "markdown",
      "source": [
        " Data Preprocessing and Analysis"
      ],
      "metadata": {
        "id": "cSI7PeHog-zd"
      }
    },
    {
      "cell_type": "code",
      "execution_count": 1,
      "metadata": {
        "colab": {
          "base_uri": "https://localhost:8080/"
        },
        "id": "j2MOVu-Bg4gy",
        "outputId": "0043772a-082f-45bd-af2f-d7f7b22b744b"
      },
      "outputs": [
        {
          "output_type": "stream",
          "name": "stdout",
          "text": [
            "   temperature  radiation   gravity  resources  planet\n",
            "0        0.750       0.25  1.000000        1.0    Mars\n",
            "1        1.000       0.50  0.127349        0.2    Moon\n",
            "2        0.125       1.00  0.000000        0.0  Europa\n",
            "3        0.000       0.00  0.015449        0.4   Titan\n"
          ]
        }
      ],
      "source": [
        "import pandas as pd\n",
        "from sklearn.preprocessing import MinMaxScaler\n",
        "\n",
        "# Example planetary data (temperature, radiation level, gravity, resource availability)\n",
        "data = {\n",
        "    \"planet\": [\"Mars\", \"Moon\", \"Europa\", \"Titan\"],\n",
        "    \"temperature\": [-60, -20, -160, -180],  # Celsius\n",
        "    \"radiation\": [0.6, 0.8, 1.2, 0.4],      # Arbitrary units\n",
        "    \"gravity\": [3.71, 1.62, 1.315, 1.352],  # m/s^2\n",
        "    \"resources\": [0.8, 0.4, 0.3, 0.5]       # Availability scale (0 to 1)\n",
        "}\n",
        "df = pd.DataFrame(data)\n",
        "\n",
        "# Normalizing features\n",
        "scaler = MinMaxScaler()\n",
        "normalized_data = scaler.fit_transform(df.drop(columns=[\"planet\"]))\n",
        "df_normalized = pd.DataFrame(normalized_data, columns=[\"temperature\", \"radiation\", \"gravity\", \"resources\"])\n",
        "df_normalized[\"planet\"] = df[\"planet\"]\n",
        "print(df_normalized)\n"
      ]
    },
    {
      "cell_type": "markdown",
      "source": [
        "GAN Model for Habitat Generation"
      ],
      "metadata": {
        "id": "cr166G_LhLF6"
      }
    },
    {
      "cell_type": "code",
      "source": [
        "import torch\n",
        "import torch.nn as nn\n",
        "import torch.optim as optim\n",
        "\n",
        "class Generator(nn.Module):\n",
        "    def __init__(self, input_dim, output_dim):\n",
        "        super(Generator, self).__init__()\n",
        "        self.model = nn.Sequential(\n",
        "            nn.Linear(input_dim, 128),\n",
        "            nn.ReLU(),\n",
        "            nn.Linear(128, 256),\n",
        "            nn.ReLU(),\n",
        "            nn.Linear(256, output_dim),\n",
        "            nn.Tanh()\n",
        "        )\n",
        "\n",
        "    def forward(self, x):\n",
        "        return self.model(x)\n",
        "\n",
        "class Discriminator(nn.Module):\n",
        "    def __init__(self, input_dim):\n",
        "        super(Discriminator, self).__init__()\n",
        "        self.model = nn.Sequential(\n",
        "            nn.Linear(input_dim, 256),\n",
        "            nn.LeakyReLU(0.2),\n",
        "            nn.Linear(256, 128),\n",
        "            nn.LeakyReLU(0.2),\n",
        "            nn.Linear(128, 1),\n",
        "            nn.Sigmoid()\n",
        "        )\n",
        "\n",
        "    def forward(self, x):\n",
        "        return self.model(x)\n",
        "\n",
        "# GAN Training Loop\n",
        "def train_gan(generator, discriminator, epochs, input_dim, output_dim, batch_size=16):\n",
        "    criterion = nn.BCELoss()\n",
        "    optimizer_G = optim.Adam(generator.parameters(), lr=0.001)\n",
        "    optimizer_D = optim.Adam(discriminator.parameters(), lr=0.001)\n",
        "\n",
        "    for epoch in range(epochs):\n",
        "        # Generate fake habitat features\n",
        "        noise = torch.randn(batch_size, input_dim)\n",
        "        generated_data = generator(noise)\n",
        "\n",
        "        # Discriminator on real and fake data\n",
        "        real_data = torch.randn(batch_size, output_dim)  # Placeholder for real data\n",
        "        real_labels = torch.ones(batch_size, 1)\n",
        "        fake_labels = torch.zeros(batch_size, 1)\n",
        "\n",
        "        # Train Discriminator\n",
        "        optimizer_D.zero_grad()\n",
        "        real_loss = criterion(discriminator(real_data), real_labels)\n",
        "        fake_loss = criterion(discriminator(generated_data.detach()), fake_labels)\n",
        "        d_loss = real_loss + fake_loss\n",
        "        d_loss.backward()\n",
        "        optimizer_D.step()\n",
        "\n",
        "        # Train Generator\n",
        "        optimizer_G.zero_grad()\n",
        "        g_loss = criterion(discriminator(generated_data), real_labels)  # Flip labels\n",
        "        g_loss.backward()\n",
        "        optimizer_G.step()\n",
        "\n",
        "        if epoch % 100 == 0:\n",
        "            print(f\"Epoch {epoch} | D Loss: {d_loss.item()} | G Loss: {g_loss.item()}\")\n",
        "\n",
        "input_dim = 10  # Latent space dimension\n",
        "output_dim = 4  # Habitat feature dimensions (e.g., space, material, durability, sustainability)\n",
        "generator = Generator(input_dim, output_dim)\n",
        "discriminator = Discriminator(output_dim)\n",
        "\n",
        "train_gan(generator, discriminator, epochs=1000, input_dim=input_dim, output_dim=output_dim)\n"
      ],
      "metadata": {
        "colab": {
          "base_uri": "https://localhost:8080/"
        },
        "id": "dIJvEfMOg77O",
        "outputId": "a3d4c4a9-9e3e-4e3a-e987-a4361794cebc"
      },
      "execution_count": 2,
      "outputs": [
        {
          "output_type": "stream",
          "name": "stdout",
          "text": [
            "Epoch 0 | D Loss: 1.3816813230514526 | G Loss: 0.6747321486473083\n",
            "Epoch 100 | D Loss: 0.7826583981513977 | G Loss: 1.714840292930603\n",
            "Epoch 200 | D Loss: 0.4704660177230835 | G Loss: 2.0285322666168213\n",
            "Epoch 300 | D Loss: 1.3306270837783813 | G Loss: 1.2156459093093872\n",
            "Epoch 400 | D Loss: 0.24299630522727966 | G Loss: 5.46169376373291\n",
            "Epoch 500 | D Loss: 0.8441115617752075 | G Loss: 1.3749685287475586\n",
            "Epoch 600 | D Loss: 0.36474642157554626 | G Loss: 2.9515135288238525\n",
            "Epoch 700 | D Loss: 0.3841858506202698 | G Loss: 2.3549492359161377\n",
            "Epoch 800 | D Loss: 1.4793542623519897 | G Loss: 1.8119971752166748\n",
            "Epoch 900 | D Loss: 0.22790297865867615 | G Loss: 2.4635651111602783\n"
          ]
        }
      ]
    },
    {
      "cell_type": "markdown",
      "source": [
        "Simulation with FEA (Finite Element Analysis)"
      ],
      "metadata": {
        "id": "tcnxTz68hVUw"
      }
    },
    {
      "cell_type": "code",
      "source": [
        "def check_environmental_conditions(gravity, temperature, radiation):\n",
        "    # Placeholder values\n",
        "    gravity_limit = 3.5\n",
        "    temp_min, temp_max = -150, 50  # Habitat's operational temperature range\n",
        "\n",
        "    # Check gravity compatibility\n",
        "    if gravity > gravity_limit:\n",
        "        print(\"Warning: High gravity level; modify structure.\")\n",
        "    else:\n",
        "        print(\"Gravity conditions acceptable.\")\n",
        "\n",
        "    # Check temperature compatibility\n",
        "    if not (temp_min <= temperature <= temp_max):\n",
        "        print(\"Warning: Extreme temperature; apply extra insulation.\")\n",
        "    else:\n",
        "        print(\"Temperature conditions acceptable.\")\n",
        "\n",
        "    # Check radiation levels\n",
        "    if radiation > 0.7:\n",
        "        print(\"Warning: High radiation; apply extra shielding.\")\n",
        "    else:\n",
        "        print(\"Radiation levels acceptable.\")\n",
        "\n",
        "# Example check for Mars\n",
        "check_environmental_conditions(gravity=3.71, temperature=-60, radiation=0.6)\n"
      ],
      "metadata": {
        "colab": {
          "base_uri": "https://localhost:8080/"
        },
        "id": "SM8SwRWmg73s",
        "outputId": "cffdf445-5a24-4248-9b7c-dd27037aa35b"
      },
      "execution_count": 3,
      "outputs": [
        {
          "output_type": "stream",
          "name": "stdout",
          "text": [
            "Warning: High gravity level; modify structure.\n",
            "Temperature conditions acceptable.\n",
            "Radiation levels acceptable.\n"
          ]
        }
      ]
    },
    {
      "cell_type": "code",
      "source": [
        "import matplotlib.pyplot as plt\n",
        "\n",
        "def draw_habitat():\n",
        "    # Example blueprint for a habitat with rooms, corridors, and insulation layers\n",
        "    plt.figure(figsize=(6,6))\n",
        "    plt.plot([1, 5, 5, 1, 1], [1, 1, 5, 5, 1], label=\"Outer Walls\")\n",
        "    plt.plot([2, 4, 4, 2, 2], [2, 2, 4, 4, 2], label=\"Living Space\")\n",
        "    plt.plot([3, 3.5, 3.5, 3, 3], [3, 3, 3.5, 3.5, 3], label=\"Control Room\")\n",
        "\n",
        "    plt.legend()\n",
        "    plt.title(\"Habitat Blueprint\")\n",
        "    plt.axis('equal')\n",
        "    plt.show()\n",
        "\n",
        "draw_habitat()\n"
      ],
      "metadata": {
        "colab": {
          "base_uri": "https://localhost:8080/",
          "height": 545
        },
        "id": "aMcbpEz5g70o",
        "outputId": "633b7faa-84bd-4ef8-c991-a0bbf5a38edb"
      },
      "execution_count": 4,
      "outputs": [
        {
          "output_type": "display_data",
          "data": {
            "text/plain": [
              "<Figure size 600x600 with 1 Axes>"
            ],
            "image/png": "[encoded data removed]"
          },
          "metadata": {}
        }
      ]
    },
    {
      "cell_type": "markdown",
      "source": [
        "Rendering Blueprints (Placeholder for 3D Modeling)"
      ],
      "metadata": {
        "id": "EOmS86zmhdtV"
      }
    },
    {
      "cell_type": "markdown",
      "source": [
        "UI with flask"
      ],
      "metadata": {
        "id": "gAP_28mphnop"
      }
    },
    {
      "cell_type": "code",
      "source": [
        "from flask import Flask, render_template, request, jsonify\n",
        "\n",
        "app = Flask(__name__)\n",
        "\n",
        "@app.route('/')\n",
        "def index():\n",
        "    return render_template('index.html')  # Create an HTML page for user inputs\n",
        "\n",
        "@app.route('/generate_habitat', methods=['POST'])\n",
        "def generate_habitat():\n",
        "    # Retrieve user inputs for habitat design\n",
        "    data = request.get_json()\n",
        "    planet = data['planet']\n",
        "    gravity = data['gravity']\n",
        "    temperature = data['temperature']\n",
        "    radiation = data['radiation']\n",
        "\n",
        "    # Run AI model and simulations\n",
        "    habitat_design = generator(torch.randn(1, input_dim)).detach().numpy()\n",
        "    check_environmental_conditions(gravity, temperature, radiation)\n",
        "\n",
        "    # Return generated design as JSON\n",
        "    return jsonify({\"habitat_design\": habitat_design.tolist()})\n",
        "\n",
        "if __name__ == '__main__':\n",
        "    app.run(debug=True)\n"
      ],
      "metadata": {
        "colab": {
          "base_uri": "https://localhost:8080/"
        },
        "id": "i-ORqYjdg7vM",
        "outputId": "b0ab2e69-1274-4077-fc7a-abe568e78d85"
      },
      "execution_count": 6,
      "outputs": [
        {
          "output_type": "stream",
          "name": "stdout",
          "text": [
            " * Serving Flask app '__main__'\n",
            " * Debug mode: on\n"
          ]
        },
        {
          "output_type": "stream",
          "name": "stderr",
          "text": [
            "INFO:werkzeug:\u001b[31m\u001b[1mWARNING: This is a development server. Do not use it in a production deployment. Use a production WSGI server instead.\u001b[0m\n",
            " * Running on http://127.0.0.1:5000\n",
            "INFO:werkzeug:\u001b[33mPress CTRL+C to quit\u001b[0m\n",
            "INFO:werkzeug: * Restarting with stat\n"
          ]
        }
      ]
    }
  ]
}